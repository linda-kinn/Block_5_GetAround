{
 "cells": [
  {
   "cell_type": "code",
   "execution_count": 1,
   "metadata": {},
   "outputs": [],
   "source": [
    "import pandas as pd"
   ]
  },
  {
   "cell_type": "code",
   "execution_count": 2,
   "metadata": {},
   "outputs": [],
   "source": [
    "data = pd.read_excel(\"src/get_around_delay_analysis.xlsx\")"
   ]
  },
  {
   "cell_type": "code",
   "execution_count": 3,
   "metadata": {},
   "outputs": [
    {
     "data": {
      "text/plain": [
       "(21310, 7)"
      ]
     },
     "execution_count": 3,
     "metadata": {},
     "output_type": "execute_result"
    }
   ],
   "source": [
    "data.shape"
   ]
  },
  {
   "cell_type": "code",
   "execution_count": 4,
   "metadata": {},
   "outputs": [],
   "source": [
    "def formating_data(data):\n",
    "    data_formated = data\n",
    "    data_formated['delay_at_checkout_in_minutes'] = data_formated['delay_at_checkout_in_minutes'].fillna(0)\n",
    "    data_formated['previous_ended_rental_id'] = data_formated['previous_ended_rental_id'].fillna(0)\n",
    "    data_formated['time_delta_with_previous_rental_in_minutes'] = data_formated['time_delta_with_previous_rental_in_minutes'].fillna(0)\n",
    "    data_formated['previous_rental'] =data_formated['previous_ended_rental_id'].apply(lambda x : \"Yes\" if x!=0 else \"No\")\n",
    "    data_formated['is_delay'] = data_formated['delay_at_checkout_in_minutes'].apply(lambda x : \"No\" if x>0 else \"Yes\")\n",
    "    data_formated['rental_id'] = data_formated['rental_id'].astype('object')\n",
    "    data_formated['car_id'] = data_formated['car_id'].astype('object')\n",
    "    data_formated['previous_ended_rental_id'] = data_formated['previous_ended_rental_id'].astype('object')\n",
    "    data_formated['delay_types'] = data_formated['delay_at_checkout_in_minutes'].apply(lambda x : 'No_delay' if x == 0 else\n",
    "                                                                                ('Less than an hours' if x >0 and x<60 else\n",
    "                                                                                ('Less than an hours' if x <0 and x>-60 else\n",
    "                                                                                ('1h to 3h' if x >=60 and x<180 else\n",
    "                                                                                ('1h to 3h' if x <=-60 and x>-180 else\n",
    "                                                                                ('3h to 6h' if x>=180 and x<360 else\n",
    "                                                                                ('3h to 6h' if x<=-180 and x>-360 else\n",
    "                                                                                (\"6h to 12h\" if x>=360 and x<720 else\n",
    "                                                                                ('6h to 12h' if x<=-360 and x>-720 else\n",
    "                                                                                (\"12h to 24h\"if x>=720 and x<1440 else\n",
    "                                                                                (\"12h to 24h\"if x<=-720 and x>-1440 else\n",
    "                                                                                (\"One day\" if x==1440 else\n",
    "                                                                                (\"One day\" if x==-1440 else\n",
    "                                                                                (\"Two day\" if x>1440 and x<2880 else\n",
    "                                                                                (\"Two day\" if x<-1440 and x>-2880 else \n",
    "                                                                                \"More than 3 days\"\n",
    "                                                                                )))))))))))))))\n",
    "    data_formated['time_delta'] = data_formated['time_delta_with_previous_rental_in_minutes'].apply(lambda x : 'No_time_delta' if x == 0 else\n",
    "                                                                                ('Less than an hours' if x >0 and x<60 else\n",
    "                                                                                ('Less than an hours' if x <0 and x>-60 else\n",
    "                                                                                ('1h to 3h' if x >=60 and x<180 else\n",
    "                                                                                ('1h to 3h' if x <=-60 and x>-180 else\n",
    "                                                                                ('3h to 6h' if x>=180 and x<360 else\n",
    "                                                                                ('3h to 6h' if x<=-180 and x>-360 else\n",
    "                                                                                (\"6h to 12h\" if x>=360 and x<720 else\n",
    "                                                                                ('6h to 12h' if x<=-360 and x>-720 else\n",
    "                                                                                (\"12h to 24h\"if x>=720 and x<1440 else\n",
    "                                                                                (\"12h to 24h\"if x<=-720 and x>-1440 else\n",
    "                                                                                (\"One day\" if x==1440 else\n",
    "                                                                                (\"One day\" if x==-1440 else\n",
    "                                                                                (\"Two day\" if x>1440 and x<2880 else\n",
    "                                                                                (\"Two day\" if x<-1440 and x>-2880 else \n",
    "                                                                                \"More than 3 days\"\n",
    "                                                                                )))))))))))))))\n",
    "    data_formated = data_formated.drop(columns = ['rental_id','car_id','previous_ended_rental_id','delay_at_checkout_in_minutes','time_delta_with_previous_rental_in_minutes'])\n",
    "    return data_formated\n",
    "\n"
   ]
  },
  {
   "cell_type": "code",
   "execution_count": 5,
   "metadata": {},
   "outputs": [
    {
     "data": {
      "text/html": [
       "<div>\n",
       "<style scoped>\n",
       "    .dataframe tbody tr th:only-of-type {\n",
       "        vertical-align: middle;\n",
       "    }\n",
       "\n",
       "    .dataframe tbody tr th {\n",
       "        vertical-align: top;\n",
       "    }\n",
       "\n",
       "    .dataframe thead th {\n",
       "        text-align: right;\n",
       "    }\n",
       "</style>\n",
       "<table border=\"1\" class=\"dataframe\">\n",
       "  <thead>\n",
       "    <tr style=\"text-align: right;\">\n",
       "      <th></th>\n",
       "      <th>checkin_type</th>\n",
       "      <th>state</th>\n",
       "      <th>previous_rental</th>\n",
       "      <th>is_delay</th>\n",
       "      <th>delay_types</th>\n",
       "      <th>time_delta</th>\n",
       "    </tr>\n",
       "  </thead>\n",
       "  <tbody>\n",
       "    <tr>\n",
       "      <th>0</th>\n",
       "      <td>mobile</td>\n",
       "      <td>canceled</td>\n",
       "      <td>No</td>\n",
       "      <td>Yes</td>\n",
       "      <td>No_delay</td>\n",
       "      <td>No_time_delta</td>\n",
       "    </tr>\n",
       "    <tr>\n",
       "      <th>1</th>\n",
       "      <td>mobile</td>\n",
       "      <td>ended</td>\n",
       "      <td>No</td>\n",
       "      <td>Yes</td>\n",
       "      <td>1h to 3h</td>\n",
       "      <td>No_time_delta</td>\n",
       "    </tr>\n",
       "    <tr>\n",
       "      <th>2</th>\n",
       "      <td>connect</td>\n",
       "      <td>ended</td>\n",
       "      <td>No</td>\n",
       "      <td>No</td>\n",
       "      <td>1h to 3h</td>\n",
       "      <td>No_time_delta</td>\n",
       "    </tr>\n",
       "    <tr>\n",
       "      <th>3</th>\n",
       "      <td>connect</td>\n",
       "      <td>canceled</td>\n",
       "      <td>No</td>\n",
       "      <td>Yes</td>\n",
       "      <td>No_delay</td>\n",
       "      <td>No_time_delta</td>\n",
       "    </tr>\n",
       "    <tr>\n",
       "      <th>4</th>\n",
       "      <td>mobile</td>\n",
       "      <td>ended</td>\n",
       "      <td>No</td>\n",
       "      <td>Yes</td>\n",
       "      <td>No_delay</td>\n",
       "      <td>No_time_delta</td>\n",
       "    </tr>\n",
       "    <tr>\n",
       "      <th>...</th>\n",
       "      <td>...</td>\n",
       "      <td>...</td>\n",
       "      <td>...</td>\n",
       "      <td>...</td>\n",
       "      <td>...</td>\n",
       "      <td>...</td>\n",
       "    </tr>\n",
       "    <tr>\n",
       "      <th>21305</th>\n",
       "      <td>mobile</td>\n",
       "      <td>ended</td>\n",
       "      <td>Yes</td>\n",
       "      <td>Yes</td>\n",
       "      <td>No_delay</td>\n",
       "      <td>3h to 6h</td>\n",
       "    </tr>\n",
       "    <tr>\n",
       "      <th>21306</th>\n",
       "      <td>mobile</td>\n",
       "      <td>ended</td>\n",
       "      <td>No</td>\n",
       "      <td>Yes</td>\n",
       "      <td>3h to 6h</td>\n",
       "      <td>No_time_delta</td>\n",
       "    </tr>\n",
       "    <tr>\n",
       "      <th>21307</th>\n",
       "      <td>mobile</td>\n",
       "      <td>ended</td>\n",
       "      <td>No</td>\n",
       "      <td>No</td>\n",
       "      <td>1h to 3h</td>\n",
       "      <td>No_time_delta</td>\n",
       "    </tr>\n",
       "    <tr>\n",
       "      <th>21308</th>\n",
       "      <td>connect</td>\n",
       "      <td>ended</td>\n",
       "      <td>No</td>\n",
       "      <td>Yes</td>\n",
       "      <td>1h to 3h</td>\n",
       "      <td>No_time_delta</td>\n",
       "    </tr>\n",
       "    <tr>\n",
       "      <th>21309</th>\n",
       "      <td>connect</td>\n",
       "      <td>ended</td>\n",
       "      <td>No</td>\n",
       "      <td>No</td>\n",
       "      <td>Less than an hours</td>\n",
       "      <td>No_time_delta</td>\n",
       "    </tr>\n",
       "  </tbody>\n",
       "</table>\n",
       "<p>21310 rows × 6 columns</p>\n",
       "</div>"
      ],
      "text/plain": [
       "      checkin_type     state previous_rental is_delay         delay_types  \\\n",
       "0           mobile  canceled              No      Yes            No_delay   \n",
       "1           mobile     ended              No      Yes            1h to 3h   \n",
       "2          connect     ended              No       No            1h to 3h   \n",
       "3          connect  canceled              No      Yes            No_delay   \n",
       "4           mobile     ended              No      Yes            No_delay   \n",
       "...            ...       ...             ...      ...                 ...   \n",
       "21305       mobile     ended             Yes      Yes            No_delay   \n",
       "21306       mobile     ended              No      Yes            3h to 6h   \n",
       "21307       mobile     ended              No       No            1h to 3h   \n",
       "21308      connect     ended              No      Yes            1h to 3h   \n",
       "21309      connect     ended              No       No  Less than an hours   \n",
       "\n",
       "          time_delta  \n",
       "0      No_time_delta  \n",
       "1      No_time_delta  \n",
       "2      No_time_delta  \n",
       "3      No_time_delta  \n",
       "4      No_time_delta  \n",
       "...              ...  \n",
       "21305       3h to 6h  \n",
       "21306  No_time_delta  \n",
       "21307  No_time_delta  \n",
       "21308  No_time_delta  \n",
       "21309  No_time_delta  \n",
       "\n",
       "[21310 rows x 6 columns]"
      ]
     },
     "execution_count": 5,
     "metadata": {},
     "output_type": "execute_result"
    }
   ],
   "source": [
    "formating_data(data)"
   ]
  },
  {
   "cell_type": "code",
   "execution_count": 6,
   "metadata": {},
   "outputs": [],
   "source": [
    "data_clean = formating_data(data)"
   ]
  },
  {
   "cell_type": "code",
   "execution_count": 7,
   "metadata": {},
   "outputs": [
    {
     "data": {
      "text/plain": [
       "(21310, 6)"
      ]
     },
     "execution_count": 7,
     "metadata": {},
     "output_type": "execute_result"
    }
   ],
   "source": [
    "data_clean.shape"
   ]
  },
  {
   "cell_type": "code",
   "execution_count": 8,
   "metadata": {},
   "outputs": [],
   "source": [
    "data_clean.to_csv(\"src/data_clean_dataframe.csv\", index= False)"
   ]
  }
 ],
 "metadata": {
  "kernelspec": {
   "display_name": "Python 3.8.2 64-bit",
   "language": "python",
   "name": "python3"
  },
  "language_info": {
   "codemirror_mode": {
    "name": "ipython",
    "version": 3
   },
   "file_extension": ".py",
   "mimetype": "text/x-python",
   "name": "python",
   "nbconvert_exporter": "python",
   "pygments_lexer": "ipython3"
  },
  "orig_nbformat": 4,
  "vscode": {
   "interpreter": {
    "hash": "31f2aee4e71d21fbe5cf8b01ff0e069b9275f58929596ceb00d14d90e3e16cd6"
   }
  }
 },
 "nbformat": 4,
 "nbformat_minor": 2
}
